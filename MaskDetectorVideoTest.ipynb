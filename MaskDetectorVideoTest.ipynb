{
 "cells": [
  {
   "cell_type": "code",
   "execution_count": 1,
   "metadata": {},
   "outputs": [],
   "source": [
    "import pandas as pd\n",
    "import tensorflow as tf  \n",
    "import os  \n",
    "import numpy as np  \n",
    "import cv2  \n",
    "import numpy as np\n",
    "import matplotlib.pyplot as plt\n",
    "from sklearn import preprocessing\n",
    "label_encoder = preprocessing.LabelEncoder()\n",
    "from tensorflow.keras.utils import to_categorical"
   ]
  },
  {
   "cell_type": "code",
   "execution_count": 2,
   "metadata": {},
   "outputs": [],
   "source": [
    "path=r'C:\\Users\\saurabh\\Documents\\Desktop\\Neural Network and Deep Learning\\Mask Detection'\n",
    "X=np.load(os.path.join(path,'ImagesArray.npy'))\n",
    "Y=np.load(os.path.join(path,'ImageLabelsArray.npy'))"
   ]
  },
  {
   "cell_type": "code",
   "execution_count": 3,
   "metadata": {},
   "outputs": [],
   "source": [
    "Y_encoded= label_encoder.fit_transform(Y)\n",
    "y = to_categorical(Y_encoded, 3)"
   ]
  },
  {
   "cell_type": "code",
   "execution_count": 4,
   "metadata": {},
   "outputs": [],
   "source": [
    "from tensorflow import keras\n",
    "model = keras.models.load_model(os.path.join(path,'maskclassifiermodel.h5'))"
   ]
  },
  {
   "cell_type": "code",
   "execution_count": null,
   "metadata": {},
   "outputs": [],
   "source": [
    "face_cascade = cv2.CascadeClassifier(os.path.join(path,'haarcascade_frontalface_default.xml'))\n",
    "vid = cv2.VideoCapture(0)\n",
    "while(True):\n",
    "    ret, image = vid.read()\n",
    "    image = cv2.flip(image, 1)\n",
    "    face_rect = face_cascade.detectMultiScale(image,\n",
    "                                              scaleFactor = 1.2,\n",
    "                                              minNeighbors = 7)\n",
    "    for (x1, y1, w, h) in face_rect:\n",
    "        faceImage=image[y1:y1+h, x1:x1+w,:]\n",
    "        faceImage=cv2.resize(faceImage,(40,40))\n",
    "        faceImage=faceImage/255.0\n",
    "        faceImage=faceImage.reshape(1,40,40,3)\n",
    "        PredictfaceImage=model.predict([faceImage])[0]\n",
    "        Predictedlabel=label_encoder.inverse_transform([np.where(PredictfaceImage==max(PredictfaceImage))[0][0]])[0] \n",
    "        PredictedlabelChance=round(max(PredictfaceImage)*100,2)\n",
    "        text='{}: {}%'.format(Predictedlabel,PredictedlabelChance)\n",
    "        \n",
    "        \n",
    "        \n",
    "        \n",
    "        image=cv2.rectangle(image, (x1, y1),\n",
    "                  (x1 + w, y1 + h), (255, 255, 255), 5)\n",
    "        \n",
    "        image = cv2.putText(image, text, (x1,y1),  cv2.FONT_HERSHEY_SIMPLEX, \n",
    "               0.6, (0, 0, 255), 1, cv2.LINE_AA)\n",
    "    \n",
    "    cv2.imshow('MaskDetector', image)\n",
    "\n",
    "    if cv2.waitKey(1) & 0xFF == ord('q'):\n",
    "        break\n",
    "\n",
    "vid.release()\n",
    "cv2.destroyAllWindows()\n"
   ]
  },
  {
   "cell_type": "code",
   "execution_count": null,
   "metadata": {},
   "outputs": [],
   "source": []
  }
 ],
 "metadata": {
  "kernelspec": {
   "display_name": "Python 3.8.2 64-bit",
   "language": "python",
   "name": "python38264bit8839610f77eb428ba40d2c4dc493bc82"
  },
  "language_info": {
   "codemirror_mode": {
    "name": "ipython",
    "version": 3
   },
   "file_extension": ".py",
   "mimetype": "text/x-python",
   "name": "python",
   "nbconvert_exporter": "python",
   "pygments_lexer": "ipython3",
   "version": "3.8.2"
  }
 },
 "nbformat": 4,
 "nbformat_minor": 4
}
